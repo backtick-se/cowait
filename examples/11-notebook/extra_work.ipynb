{
 "cells": [
  {
   "cell_type": "markdown",
   "id": "bright-momentum",
   "metadata": {},
   "source": [
    "## This script performs some heavy calculations\n",
    "It takes a number N, and outputs all numbers 1 to N"
   ]
  },
  {
   "cell_type": "code",
   "execution_count": null,
   "id": "expired-great",
   "metadata": {},
   "outputs": [],
   "source": [
    "N = cowait.input('N', 10)"
   ]
  },
  {
   "cell_type": "code",
   "execution_count": null,
   "id": "figured-relative",
   "metadata": {},
   "outputs": [],
   "source": [
    "if N < 1:\n",
    "    cowait.exit({\n",
    "        'success': False,\n",
    "        'error': 'N must be greater than or equal to 1'\n",
    "    })"
   ]
  },
  {
   "cell_type": "code",
   "execution_count": null,
   "id": "extended-catalog",
   "metadata": {},
   "outputs": [],
   "source": [
    "print('performing some heavy calculations...')"
   ]
  },
  {
   "cell_type": "code",
   "execution_count": null,
   "id": "desirable-paper",
   "metadata": {},
   "outputs": [],
   "source": [
    "import numpy as np\n",
    "result = np.linspace(1, N, N)"
   ]
  },
  {
   "cell_type": "code",
   "execution_count": null,
   "id": "loved-commissioner",
   "metadata": {},
   "outputs": [],
   "source": [
    "cowait.exit({\n",
    "    'success': True,\n",
    "    'result': result\n",
    "})"
   ]
  }
 ],
 "metadata": {
  "kernelspec": {
   "display_name": "Cowait",
   "language": "python",
   "name": "cowait"
  },
  "language_info": {
   "codemirror_mode": {
    "name": "ipython",
    "version": 3
   },
   "file_extension": ".py",
   "mimetype": "text/x-python",
   "name": "python",
   "nbconvert_exporter": "python",
   "pygments_lexer": "ipython3",
   "version": "3.7.10"
  }
 },
 "nbformat": 4,
 "nbformat_minor": 5
}
