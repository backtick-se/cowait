{
 "cells": [
  {
   "cell_type": "code",
   "execution_count": null,
   "id": "dried-dimension",
   "metadata": {},
   "outputs": [],
   "source": [
    "print('Hello World!')"
   ]
  },
  {
   "cell_type": "code",
   "execution_count": null,
   "id": "revolutionary-affiliation",
   "metadata": {},
   "outputs": [],
   "source": [
    "N = cowait.input('N', 10)"
   ]
  },
  {
   "cell_type": "code",
   "execution_count": null,
   "id": "cardiac-yeast",
   "metadata": {},
   "outputs": [],
   "source": [
    "from get_data import GetData\n",
    "data = await GetData(N=N)\n",
    "print(f'Recieved data: {data}')"
   ]
  },
  {
   "cell_type": "code",
   "execution_count": null,
   "id": "round-charles",
   "metadata": {},
   "outputs": [],
   "source": [
    "sequence = data['sequence']\n",
    "if data['sequence'] is None:\n",
    "    cowait.exit('failed')"
   ]
  },
  {
   "cell_type": "code",
   "execution_count": null,
   "id": "synthetic-overhead",
   "metadata": {},
   "outputs": [],
   "source": [
    "import numpy as np\n",
    "numbers = np.array(sequence)\n",
    "# Do some advanced computations\n",
    "s = sum(numbers)\n",
    "s2 = sum([n * n for n in numbers])"
   ]
  },
  {
   "cell_type": "code",
   "execution_count": null,
   "id": "armed-robinson",
   "metadata": {},
   "outputs": [],
   "source": [
    "cowait.exit({\n",
    "    'sum': s,\n",
    "    'sq_sum': s2\n",
    "})"
   ]
  }
 ],
 "metadata": {
  "kernelspec": {
   "display_name": "Cowait",
   "language": "python",
   "name": "cowait"
  },
  "language_info": {
   "codemirror_mode": {
    "name": "ipython",
    "version": 3
   },
   "file_extension": ".py",
   "mimetype": "text/x-python",
   "name": "python",
   "nbconvert_exporter": "python",
   "pygments_lexer": "ipython3",
   "version": "3.7.10"
  }
 },
 "nbformat": 4,
 "nbformat_minor": 5
}
